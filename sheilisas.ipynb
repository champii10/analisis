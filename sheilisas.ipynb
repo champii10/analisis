{
 "cells": [
  {
   "cell_type": "markdown",
   "metadata": {},
   "source": [
    "# Práctica 1 de Análisis Numérico\n",
    "\n",
    "Melisa Gomez Díaz || Sheyla Mondragón Pérez\n"
   ]
  },
  {
   "cell_type": "markdown",
   "metadata": {},
   "source": [
    "## Parte de Aritmética de Punto Flotante"
   ]
  },
  {
   "cell_type": "code",
   "execution_count": null,
   "metadata": {},
   "outputs": [],
   "source": [
    "\"Terminada\""
   ]
  },
  {
   "cell_type": "markdown",
   "metadata": {},
   "source": [
    "## Parte de Álgebra Lineal Numérica"
   ]
  },
  {
   "cell_type": "markdown",
   "metadata": {},
   "source": [
    "### Ejercicio 4\n",
    " **(3 puntos)**\n",
    "<br>\n",
    "<font color=blue>Considera la imagen en escala de grises *Lenna.png*. </font>\n",
    "\n",
    "<img src=\"Lenna.png\">\n",
    "\n",
    "- <font color=blue> \n",
    "   Busque comandos para generar la matriz $A$ asociada a esta imagen tal que los elementos\n",
    "  esten en formato doble del IEEE y en el intervalo $[0,1]$. Muestre la submatriz\n",
    "   $$X = \\begin{bmatrix} \n",
    "   a_{240,240} & \\cdots & a_{240,289} \\\\\n",
    "   \\vdots & & \\vdots \\\\\n",
    "   a_{289,240} & & a_{289,289}\n",
    "   \\end{bmatrix}$$\n",
    "   así como la imagen correspondiente a esta submatriz."
   ]
  },
  {
   "cell_type": "code",
   "execution_count": 1,
   "metadata": {},
   "outputs": [
    {
     "name": "stderr",
     "output_type": "stream",
     "text": [
      "\u001b[1m\u001b[36mINFO: \u001b[39m\u001b[22m\u001b[36mPrecompiling module ImageMagick.\n",
      "\u001b[39m"
     ]
    },
    {
     "name": "stdout",
     "output_type": "stream",
     "text": [
      " \n"
     ]
    }
   ],
   "source": [
    "#Creación de matrices\n",
    "using Images\n",
    "A=convert(Array{Float64,2},load(\"Lenna.png\"))\n",
    "X=view(A,240:289,240:289)\n",
    "println(\" \")"
   ]
  },
  {
   "cell_type": "code",
   "execution_count": null,
   "metadata": {},
   "outputs": [],
   "source": [
    "#Desplegar imagen\n",
    "load(\"Lenna.png\")"
   ]
  },
  {
   "cell_type": "code",
   "execution_count": null,
   "metadata": {},
   "outputs": [],
   "source": [
    "#Desplegar matriz de la imagen\n",
    "A"
   ]
  },
  {
   "cell_type": "code",
   "execution_count": null,
   "metadata": {},
   "outputs": [],
   "source": [
    "#Desplegar submatriz X#\n",
    "X"
   ]
  },
  {
   "cell_type": "code",
   "execution_count": 2,
   "metadata": {},
   "outputs": [
    {
     "data": {
      "image/png": "[encoded data removed]",
      "text/plain": [
       "50×50 Array{Gray{N0f8},2}:\n",
       " Gray{N0f8}(0.69)   Gray{N0f8}(0.667)  …  Gray{N0f8}(0.627)\n",
       " Gray{N0f8}(0.675)  Gray{N0f8}(0.612)     Gray{N0f8}(0.647)\n",
       " Gray{N0f8}(0.6)    Gray{N0f8}(0.604)     Gray{N0f8}(0.643)\n",
       " Gray{N0f8}(0.604)  Gray{N0f8}(0.639)     Gray{N0f8}(0.663)\n",
       " Gray{N0f8}(0.627)  Gray{N0f8}(0.671)     Gray{N0f8}(0.663)\n",
       " Gray{N0f8}(0.631)  Gray{N0f8}(0.647)  …  Gray{N0f8}(0.635)\n",
       " Gray{N0f8}(0.631)  Gray{N0f8}(0.675)     Gray{N0f8}(0.667)\n",
       " Gray{N0f8}(0.686)  Gray{N0f8}(0.686)     Gray{N0f8}(0.655)\n",
       " Gray{N0f8}(0.694)  Gray{N0f8}(0.706)     Gray{N0f8}(0.592)\n",
       " Gray{N0f8}(0.71)   Gray{N0f8}(0.741)     Gray{N0f8}(0.522)\n",
       " Gray{N0f8}(0.714)  Gray{N0f8}(0.757)  …  Gray{N0f8}(0.404)\n",
       " Gray{N0f8}(0.749)  Gray{N0f8}(0.769)     Gray{N0f8}(0.275)\n",
       " Gray{N0f8}(0.765)  Gray{N0f8}(0.773)     Gray{N0f8}(0.208)\n",
       " ⋮                                     ⋱                   \n",
       " Gray{N0f8}(0.482)  Gray{N0f8}(0.506)     Gray{N0f8}(0.447)\n",
       " Gray{N0f8}(0.498)  Gray{N0f8}(0.514)     Gray{N0f8}(0.451)\n",
       " Gray{N0f8}(0.506)  Gray{N0f8}(0.514)  …  Gray{N0f8}(0.455)\n",
       " Gray{N0f8}(0.518)  Gray{N0f8}(0.533)     Gray{N0f8}(0.471)\n",
       " Gray{N0f8}(0.51)   Gray{N0f8}(0.522)     Gray{N0f8}(0.471)\n",
       " Gray{N0f8}(0.537)  Gray{N0f8}(0.545)     Gray{N0f8}(0.467)\n",
       " Gray{N0f8}(0.537)  Gray{N0f8}(0.545)     Gray{N0f8}(0.475)\n",
       " Gray{N0f8}(0.518)  Gray{N0f8}(0.557)  …  Gray{N0f8}(0.467)\n",
       " Gray{N0f8}(0.51)   Gray{N0f8}(0.553)     Gray{N0f8}(0.478)\n",
       " Gray{N0f8}(0.51)   Gray{N0f8}(0.553)     Gray{N0f8}(0.49) \n",
       " Gray{N0f8}(0.522)  Gray{N0f8}(0.549)     Gray{N0f8}(0.498)\n",
       " Gray{N0f8}(0.498)  Gray{N0f8}(0.537)     Gray{N0f8}(0.49) "
      ]
     },
     "execution_count": 2,
     "metadata": {},
     "output_type": "execute_result"
    }
   ],
   "source": [
    "#Desplegar imagen de submatriz\n",
    "convert(Array{ColorTypes.Gray{FixedPointNumbers.Normed{UInt8,8}},2},X)"
   ]
  },
  {
   "cell_type": "markdown",
   "metadata": {},
   "source": [
    "- <font color=blue> Busque un comando para calcular el rango de una matriz y uselo para hallar\n",
    "  el rango de $A$ y $X$.\n",
    " </font>"
   ]
  },
  {
   "cell_type": "code",
   "execution_count": null,
   "metadata": {},
   "outputs": [],
   "source": [
    "println(\"Se usa el comando rank\")\n",
    "rangoA=rank(A)\n",
    "rangoX=rank(X)\n",
    "println(\"El rango de A es $rangoA y elrango de X es $rangoX\")\n"
   ]
  },
  {
   "cell_type": "markdown",
   "metadata": {},
   "source": [
    ">  <font color=blue>\n",
    "  ¿$A$ es invertible?\n",
    "  <br>\n",
    "  ¿$X$ es invertible?\n",
    "   </font>  "
   ]
  },
  {
   "cell_type": "markdown",
   "metadata": {},
   "source": [
    "X es invertible y A no es invertible"
   ]
  },
  {
   "cell_type": "markdown",
   "metadata": {},
   "source": [
    "- <font color=blue>\n",
    "  Apile las columnas $X_1,\\dots,X_{50}$ de $X$ en un vector\n",
    "\n",
    "  $x= \\begin{bmatrix} X_1 \\\\ \\vdots \\\\ X_{50}\\end{bmatrix}$\n",
    "  </font>"
   ]
  },
  {
   "cell_type": "code",
   "execution_count": 3,
   "metadata": {},
   "outputs": [
    {
     "data": {
      "text/plain": [
       "2500-element Array{Float64,1}:\n",
       " 0.690196\n",
       " 0.67451 \n",
       " 0.6     \n",
       " 0.603922\n",
       " 0.627451\n",
       " 0.631373\n",
       " 0.631373\n",
       " 0.686275\n",
       " 0.694118\n",
       " 0.709804\n",
       " 0.713725\n",
       " 0.74902 \n",
       " 0.764706\n",
       " ⋮       \n",
       " 0.447059\n",
       " 0.45098 \n",
       " 0.454902\n",
       " 0.470588\n",
       " 0.470588\n",
       " 0.466667\n",
       " 0.47451 \n",
       " 0.466667\n",
       " 0.478431\n",
       " 0.490196\n",
       " 0.498039\n",
       " 0.490196"
      ]
     },
     "execution_count": 3,
     "metadata": {},
     "output_type": "execute_result"
    }
   ],
   "source": [
    "aux1=vcat(X[1:50,1],X[1:50,2],X[1:50,3],X[1:50,4],X[1:50,5],X[1:50,6],X[1:50,7],X[1:50,8],X[1:50,9],X[1:50,10])\n",
    "aux2=vcat(aux1,X[1:50,11],X[1:50,12],X[1:50,13],X[1:50,14],X[1:50,15],X[1:50,16],X[1:50,17],X[1:50,18],X[1:50,19],X[1:50,20])\n",
    "aux3=vcat(aux2,X[1:50,21],X[1:50,22],X[1:50,23],X[1:50,24],X[1:50,25],X[1:50,26],X[1:50,27],X[1:50,28],X[1:50,29],X[1:50,30])\n",
    "aux4=vcat(aux3,X[1:50,31],X[1:50,32],X[1:50,33],X[1:50,34],X[1:50,35],X[1:50,36],X[1:50,37],X[1:50,38],X[1:50,39],X[1:50,40])\n",
    "aux5=vcat(aux4,X[1:50,41],X[1:50,42],X[1:50,43],X[1:50,44],X[1:50,45],X[1:50,46],X[1:50,47],X[1:50,48],X[1:50,49],X[1:50,50])\n",
    "x=aux5"
   ]
  },
  {
   "cell_type": "markdown",
   "metadata": {},
   "source": [
    "-  <font color=blue> Escriba un programa que genere la matriz de Toeplitz $T$ de tamaño $m\\times m$ dada por \n",
    " $$t_{i,j}=\\dfrac{1}{\\sqrt{2\\pi}\\sigma}a^{(i-j)^2},$$ donde\n",
    " $$a=\\exp\\left(\\dfrac{-1}{2\\sigma^2}\\right)$$\n",
    " </font> \n",
    "  <font color=blue> **Entrada**: variables $\\sigma>0,m\\in\\mathbb N$</font>\n",
    "  <br>\n",
    "  <font color=blue>**Salida**: arreglo $T$ de $m\\times m$ \n",
    "    que almacena matriz de Toeplitz</font>\n",
    "  <br>\n",
    "  <font color=blue> Evite realizar ciclos (for,while)</font>\n",
    "\n"
   ]
  },
  {
   "cell_type": "code",
   "execution_count": 4,
   "metadata": {},
   "outputs": [
    {
     "data": {
      "text/plain": [
       "(::#7) (generic function with 1 method)"
      ]
     },
     "execution_count": 4,
     "metadata": {},
     "output_type": "execute_result"
    }
   ],
   "source": [
    "using MatrixDepot\n",
    "cuad=function (x)\n",
    "    rcuad=x^2\n",
    "    return(rcuad)\n",
    "end\n",
    "\n",
    "rest=function (x)\n",
    "    rrest=1-x\n",
    "    return(rrest)\n",
    "end\n",
    "\n",
    "elev=function(b,e)\n",
    "    b^e\n",
    "end\n",
    "    \n",
    "funprin=function(sigma,m)\n",
    "            a=exp((-1)/(2*(sigma^2)))\n",
    "            q=(sqrt(2*π*(sigma^2)))\n",
    "            s1=collect(1:m)\n",
    "            s2=rest.(s1)\n",
    "            s3=cuad.(s2)\n",
    "            s4=elev.(a,s3)\n",
    "            s4=s4/q\n",
    "            r=matrixdepot(\"toeplitz\",s4,s4)\n",
    "            return(r)\n",
    "        end\n",
    "    \n",
    "    "
   ]
  },
  {
   "cell_type": "markdown",
   "metadata": {},
   "source": [
    "- <font color=blue>Fije $m=2500$, </font> \n",
    "  <br>\n",
    "  <font color=blue> Para $\\sigma=0.5,1,1.5,1.8,2.0,2.5,3.0,3.5$ </font> \n",
    "  \n",
    "  > <font color=blue>  haga el producto $y =Tx$ usando el programa anterior </font> \n",
    "     <br>\n",
    "    <font color=blue> Reacomode $y$ como una matriz $Y$ de tamaño $50\\times 50$\n",
    "    $$Y = \\begin{bmatrix}\n",
    "     y_1 & y_{51} & \\dots & y_{2491}\\\\ \\vdots & \\vdots & \\vdots \\\\ \n",
    "     y_{50} & y_{100} & \\dots & y_ {2500}\\\\\n",
    "    \\end{bmatrix}$$ </font> \n",
    "    <br>\n",
    "    <font color=blue> Muestre la imagen correspondiente</font> "
   ]
  },
  {
   "cell_type": "code",
   "execution_count": 5,
   "metadata": {},
   "outputs": [
    {
     "name": "stdout",
     "output_type": "stream",
     "text": [
      " \n"
     ]
    }
   ],
   "source": [
    "aux=(0.5,1,1.5,1.8,2.0,3.0,3.5)\n",
    "multi=funprin(0.5,2500)\n",
    "for i=2:7\n",
    "    t2=funprin(aux[i],2500)\n",
    "    multi=cat(3,multi,t2)\n",
    "end\n",
    "\n",
    "\n",
    "\n",
    "\n",
    "multi2=convert(Array{Any,3},ones(2500,1,7))\n",
    "for i in 1:7\n",
    "    multi2[:,:,i]=(multi[:,:,i])*x\n",
    "end\n",
    "\n",
    "\n",
    "\n",
    "\n",
    "\n",
    "i1=multi2[1:50,1,1]\n",
    "for i in 51:50:2451\n",
    "    i1=cat(2,i1,multi2[i:i+49,1,1])\n",
    "end\n",
    "\n",
    "i2=multi2[1:50,1,2]\n",
    "for i in 51:50:2451\n",
    "    i2=cat(2,i2,multi2[i:i+49,1,2])\n",
    "end\n",
    "\n",
    "i3=multi2[1:50,1,3]\n",
    "for i in 51:50:2451\n",
    "    i3=cat(2,i3,multi2[i:i+49,1,3])\n",
    "end\n",
    "\n",
    "i4=multi2[1:50,1,4]\n",
    "for i in 51:50:2451\n",
    "    i4=cat(2,i4,multi2[i:i+49,1,4])\n",
    "end\n",
    "\n",
    "i5=multi2[1:50,1,5]\n",
    "for i in 51:50:2451\n",
    "    i5=cat(2,i5,multi2[i:i+49,1,5])\n",
    "end\n",
    "\n",
    "i6=multi2[1:50,1,6]\n",
    "for i in 51:50:2451\n",
    "    i6=cat(2,i6,multi2[i:i+49,1,6])\n",
    "end\n",
    "\n",
    "i7=multi2[1:50,1,7]\n",
    "for i in 51:50:2451\n",
    "    i7=cat(2,i7,multi2[i:i+49,1,7])\n",
    "end\n",
    "\n",
    "\n",
    "\n",
    "\n",
    "i1=convert(Array{ColorTypes.Gray{FixedPointNumbers.Normed{UInt8,8}},2},i1)\n",
    "i2=convert(Array{ColorTypes.Gray{FixedPointNumbers.Normed{UInt8,8}},2},i2)\n",
    "i3=convert(Array{ColorTypes.Gray{FixedPointNumbers.Normed{UInt8,8}},2},i3)\n",
    "i4=convert(Array{ColorTypes.Gray{FixedPointNumbers.Normed{UInt8,8}},2},i4)\n",
    "i5=convert(Array{ColorTypes.Gray{FixedPointNumbers.Normed{UInt8,8}},2},i5)\n",
    "i6=convert(Array{ColorTypes.Gray{FixedPointNumbers.Normed{UInt8,8}},2},i6)\n",
    "i7=convert(Array{ColorTypes.Gray{FixedPointNumbers.Normed{UInt8,8}},2},i7)\n",
    "\n",
    "\n",
    "\n",
    "println(\" \")"
   ]
  },
  {
   "cell_type": "code",
   "execution_count": null,
   "metadata": {},
   "outputs": [],
   "source": [
    "i1"
   ]
  },
  {
   "cell_type": "code",
   "execution_count": null,
   "metadata": {},
   "outputs": [],
   "source": [
    "i2"
   ]
  },
  {
   "cell_type": "code",
   "execution_count": null,
   "metadata": {},
   "outputs": [],
   "source": [
    "i3"
   ]
  },
  {
   "cell_type": "code",
   "execution_count": null,
   "metadata": {},
   "outputs": [],
   "source": [
    "i4"
   ]
  },
  {
   "cell_type": "code",
   "execution_count": null,
   "metadata": {},
   "outputs": [],
   "source": [
    "i5"
   ]
  },
  {
   "cell_type": "code",
   "execution_count": null,
   "metadata": {},
   "outputs": [],
   "source": [
    "i6"
   ]
  },
  {
   "cell_type": "code",
   "execution_count": null,
   "metadata": {},
   "outputs": [],
   "source": [
    "i7"
   ]
  },
  {
   "cell_type": "markdown",
   "metadata": {},
   "source": [
    "> <font color=blue>\n",
    "    ¿cómo cambian las imágenes que obtiene en relación a la desviación estándar $\\sigma$?\n",
    "  </font>"
   ]
  },
  {
   "cell_type": "markdown",
   "metadata": {},
   "source": [
    "Pierden calidad en medida que aumenta la desviación estandar"
   ]
  },
  {
   "cell_type": "markdown",
   "metadata": {},
   "source": [
    "- <font color=blue> \n",
    " Fije $m=2500$, genera una tabla con $\\text{cond}_1(T)$ para \n",
    " $\\sigma=1,1.5,1.8,2.0,2.1,2.3,2.5$ \n",
    " </font>"
   ]
  },
  {
   "cell_type": "code",
   "execution_count": null,
   "metadata": {},
   "outputs": [],
   "source": [
    "aux=(0.5, 1, 1.5, 1.8, 2.0, 3.0, 3.5)\n",
    "println(\"T         sigma         número de condición\")\n",
    "for i in 1:7\n",
    "    co=cond(multi[:,:,i])\n",
    "    sig=aux[i]\n",
    "    println(\"T$i         $sig        $co\")\n",
    "end    \n",
    "#esta linea tarda mucho en correr pero sí corre  :) "
   ]
  },
  {
   "cell_type": "markdown",
   "metadata": {},
   "source": [
    "> <font color=blue> \n",
    "¿qué puede decir del condicionamiento de $T$ en relación a la desviación estándar $\\sigma$?\n",
    "</font>"
   ]
  },
  {
   "cell_type": "markdown",
   "metadata": {},
   "source": [
    "Aumentan con sigma"
   ]
  },
  {
   "cell_type": "markdown",
   "metadata": {},
   "source": [
    "- <font color=blue>  En teoría, la matriz $T$ es positiva definida para cualquier valor de $\\sigma>0$.  Por lo que tiene factorización de Cholesky. \n",
    "  <br>\n",
    "  Sin embargo esto no es válido con el formato doble del IEEE.\n",
    "  <br>\n",
    "  Fije $m=50$. \n",
    "  <br>\n",
    "  **Halle al tanteo el valor más grande de $\\sigma>0$** hasta con dos decimales (Ej. 3.56, 17.29)\n",
    "  para el cúal pueda calcular la factorización de Cholesky de $T$\n",
    " </font>"
   ]
  },
  {
   "cell_type": "markdown",
   "metadata": {},
   "source": [
    "> <font color=blue> use una rutina para la  factorización de Cholesky  </font> \n",
    "  <br>\n",
    "  <font color=blue> No es necesario mostrar las factorizaciones de Cholesky, pero sí\n",
    "       el mensaje de error de la rutina </font>   "
   ]
  },
  {
   "cell_type": "code",
   "execution_count": 42,
   "metadata": {},
   "outputs": [
    {
     "name": "stdout",
     "output_type": "stream",
     "text": [
      "maximo sigma= 1.0000000000000007\n"
     ]
    }
   ],
   "source": [
    "x=true\n",
    "p=0\n",
    "n=0.00\n",
    "while x\n",
    "    n=n+(1/100)\n",
    "chol(funprin(n,50))\n",
    "end\n"
   ]
  },
  {
   "cell_type": "markdown",
   "metadata": {},
   "source": [
    "### Ejercicio 5\n",
    " **(1.5 puntos)**\n",
    "<br>\n",
    "<font color=blue>Halle un comando para generar la matriz de Hilbert $H_n$ de tamaño $n\\times n$.\n",
    "</font>\n",
    "\n",
    "-  <font color=blue>\n",
    "    Construya una tabla que muestre  $\\text{cond}_{\\infty}(H_n)$ y $\\det(H_n)$ para $n=1,\\dots,30$\n",
    "    </font>"
   ]
  },
  {
   "cell_type": "code",
   "execution_count": 43,
   "metadata": {},
   "outputs": [
    {
     "name": "stdout",
     "output_type": "stream",
     "text": [
      "      condición    determinante\n",
      "n=1  1.0   1.0   \n",
      "n=2  27.00000000000001   0.08333333333333331   \n",
      "n=3  748.0000000000026   0.00046296296296296135   \n",
      "n=4  28375.00000000183   1.653439153439039e-7   \n",
      "n=5  943656.0000063627   3.7492951324898145e-12   \n",
      "n=6  2.907027900379063e7   5.3672998866563796e-18   \n",
      "n=7  9.851948895777661e8   4.835802608827547e-25   \n",
      "n=8  3.387279238592448e10   2.737050008673933e-33   \n",
      "n=9  1.0996519947440176e12   9.72025647771838e-43   \n",
      "n=10  3.535684761051709e13   2.1642146273020104e-53   \n",
      "n=11  1.2345328167416198e15   3.0170658653599326e-65   \n",
      "n=12  4.255399301891294e16   2.550554736789249e-78   \n",
      "n=13  7.78165815188001e17   2.4518239825027092e-92   \n",
      "n=14  1.1489640282002908e18   -2.387174085032749e-106   \n",
      "n=15  9.750557203923405e17   -2.1491893717231122e-120   \n",
      "n=16  1.0083374783297378e19   5.926327736317625e-136   \n",
      "n=17  2.6446253134489083e18   7.571985326424623e-150   \n",
      "n=18  2.2028869950861688e18   9.199350296480875e-165   \n",
      "n=19  2.2998065559692987e18   1.125388418960676e-179   \n",
      "n=20  6.008376652086608e18   -1.9099049769587386e-195   \n",
      "n=21  7.058972408459162e18   -7.624782066717077e-211   \n",
      "n=22  5.561306973089265e18   2.6767414102383694e-225   \n",
      "n=23  3.2921914772286715e18   -7.523253800025255e-241   \n",
      "n=24  5.966495707661708e19   4.1095110071052764e-257   \n",
      "n=25  5.844076277095576e18   -5.90546748221617e-272   \n",
      "n=26  1.3552317747585255e19   2.649557253844408e-288   \n",
      "n=27  8.732327286780483e18   -4.8606917790958385e-303   \n",
      "n=28  5.132634288020286e18   -8.141886e-318   \n",
      "n=29  6.075432374011346e19   -0.0   \n",
      "n=30  1.273725901877733e19   0.0   \n"
     ]
    }
   ],
   "source": [
    "println(\"      condición    determinante\")\n",
    "for i in 1:30\n",
    "    A=matrixdepot(\"hilb\",i)\n",
    "    c=cond(A,Inf)\n",
    "    d=det(A)\n",
    "    println(\"n=$i  $c   $d   \")\n",
    "end"
   ]
  },
  {
   "cell_type": "markdown",
   "metadata": {},
   "source": [
    "> <font color=blue>¿cómo cambia el determinante conforme $n$ aumenta?</font>"
   ]
  },
  {
   "cell_type": "code",
   "execution_count": 45,
   "metadata": {},
   "outputs": [
    {
     "data": {
      "text/plain": [
       "\"Disminuye\""
      ]
     },
     "execution_count": 45,
     "metadata": {},
     "output_type": "execute_result"
    }
   ],
   "source": [
    "\"Disminuye\""
   ]
  },
  {
   "cell_type": "markdown",
   "metadata": {},
   "source": [
    "- <font color=blue>\n",
    "  Gŕafique  $\\text{cond}_{\\infty}(H_n)$ contra $n$  para $n=1,\\dots,30$ usando escala logarítmica\n",
    "  para el eje vertical</font>"
   ]
  },
  {
   "cell_type": "code",
   "execution_count": 12,
   "metadata": {},
   "outputs": [],
   "source": [
    "using Interact, Plots, MatrixDepot"
   ]
  },
  {
   "cell_type": "code",
   "execution_count": 13,
   "metadata": {},
   "outputs": [
    {
     "data": {
      "text/html": [
       "<script src=\"file:///home/jrun/.julia/v0.6/Plots/src/backends/../../deps/plotly-latest.min.js\"></script>    <div id=\"0887b028-1cb8-4973-bb8b-630dc7f8a0e9\" style=\"width:600px;height:400px;\"></div>\n",
       "    <script>\n",
       "    PLOT = document.getElementById('0887b028-1cb8-4973-bb8b-630dc7f8a0e9');\n",
       "    Plotly.plot(PLOT, [{\"showlegend\":true,\"mode\":\"lines\",\"xaxis\":\"x\",\"colorbar\":{\"title\":\"\"},\"line\":{\"color\":\"rgba(0, 154, 250, 1.000)\",\"shape\":\"linear\",\"dash\":\"solid\",\"width\":1},\"y\":[1.0,27.00000000000001,748.0000000000026,28375.00000000183,943656.0000063627,2.907027900379063e7,9.851948895777661e8,3.387279238592448e10,1.0996519947440176e12,3.535684761051709e13,1.2345328167416198e15,4.255399301891294e16,7.78165815188001e17,1.1489640282002908e18,9.750557203923405e17,1.0083374783297378e19,2.6446253134489083e18,2.2028869950861688e18,2.2998065559692987e18,6.008376652086608e18,7.058972408459162e18,5.561306973089265e18,3.2921914772286715e18,5.966495707661708e19,5.844076277095576e18,1.3552317747585255e19,8.732327286780483e18,5.132634288020286e18,6.075432374011346e19,1.273725901877733e19],\"type\":\"scatter\",\"name\":\"y1\",\"yaxis\":\"y\",\"x\":[1,2,3,4,5,6,7,8,9,10,11,12,13,14,15,16,17,18,19,20,21,22,23,24,25,26,27,28,29,30]}], {\"showlegend\":true,\"xaxis\":{\"showticklabels\":true,\"gridwidth\":0.5,\"tickvals\":[5.0,10.0,15.0,20.0,25.0,30.0],\"visible\":true,\"ticks\":\"inside\",\"range\":[1.0,30.0],\"domain\":[0.08063575386410031,0.9934383202099737],\"tickmode\":\"array\",\"linecolor\":\"rgba(0, 0, 0, 1.000)\",\"showgrid\":true,\"title\":\"\",\"mirror\":false,\"tickangle\":0,\"showline\":true,\"gridcolor\":\"rgba(0, 0, 0, 0.100)\",\"titlefont\":{\"color\":\"rgba(0, 0, 0, 1.000)\",\"family\":\"sans-serif\",\"size\":15},\"tickcolor\":\"rgb(0, 0, 0)\",\"ticktext\":[\"5\",\"10\",\"15\",\"20\",\"25\",\"30\"],\"zeroline\":false,\"type\":\"-\",\"tickfont\":{\"color\":\"rgba(0, 0, 0, 1.000)\",\"family\":\"sans-serif\",\"size\":11},\"zerolinecolor\":\"rgba(0, 0, 0, 1.000)\",\"anchor\":\"y\"},\"paper_bgcolor\":\"rgba(255, 255, 255, 1.000)\",\"annotations\":[],\"height\":400,\"margin\":{\"l\":0,\"b\":20,\"r\":0,\"t\":20},\"plot_bgcolor\":\"rgba(255, 255, 255, 1.000)\",\"yaxis\":{\"showticklabels\":true,\"gridwidth\":0.5,\"tickvals\":[1.0,100000.0,1.0e10,1.0e15],\"visible\":true,\"ticks\":\"inside\",\"range\":[0.0,19.783577191071213],\"domain\":[0.03762029746281716,0.9901574803149606],\"tickmode\":\"array\",\"linecolor\":\"rgba(0, 0, 0, 1.000)\",\"showgrid\":true,\"title\":\"\",\"mirror\":false,\"tickangle\":0,\"showline\":true,\"gridcolor\":\"rgba(0, 0, 0, 0.100)\",\"titlefont\":{\"color\":\"rgba(0, 0, 0, 1.000)\",\"family\":\"sans-serif\",\"size\":15},\"tickcolor\":\"rgb(0, 0, 0)\",\"ticktext\":[\"10^0\",\"10^5\",\"10^10\",\"10^15\"],\"zeroline\":false,\"type\":\"log\",\"tickfont\":{\"color\":\"rgba(0, 0, 0, 1.000)\",\"family\":\"sans-serif\",\"size\":11},\"zerolinecolor\":\"rgba(0, 0, 0, 1.000)\",\"anchor\":\"x\"},\"legend\":{\"bordercolor\":\"rgba(0, 0, 0, 1.000)\",\"bgcolor\":\"rgba(255, 255, 255, 1.000)\",\"font\":{\"color\":\"rgba(0, 0, 0, 1.000)\",\"family\":\"sans-serif\",\"size\":11},\"y\":1.0,\"x\":1.0},\"width\":600});\n",
       "    </script>\n"
      ]
     },
     "execution_count": 13,
     "metadata": {},
     "output_type": "execute_result"
    }
   ],
   "source": [
    "\n",
    "function condinfh(n)\n",
    "    m=matrixdepot(\"hilb\",n)\n",
    "    s=cond(m,Inf)\n",
    "    return(s)\n",
    "end\n",
    "\n",
    "f(x)=condinfh.(x)\n",
    "plot(f,1:30,yscale = :log10)"
   ]
  },
  {
   "cell_type": "markdown",
   "metadata": {},
   "source": [
    "> <font color=blue> ¿qué le dice la gráfica anterior sobre el condicionamiento de $H_n$? </font>"
   ]
  },
  {
   "cell_type": "markdown",
   "metadata": {},
   "source": [
    "Aumenta su número de contición "
   ]
  },
  {
   "cell_type": "markdown",
   "metadata": {},
   "source": [
    "-   <font color=blue>\n",
    "    Sea  $u$ un vector de unos de $n$ componentes. Sea $b=Hu$. \n",
    "    <br>\n",
    "    Calcule la solución  $\\widehat x$ del sistema $Hx=b$ mediante factorización \n",
    "    LU con pivoteo por renglones \n",
    "    <br>\n",
    "    y $\\|\\widehat x-u\\|_{\\infty}$ para $n=5,\\dots,20$.\n",
    "    </font>\n",
    "    \n",
    " >   **NOTAS**:\n",
    " <br>\n",
    " >  <font color=blue> puede usar una rutina para factorización LU con pivoteo ,</font> \n",
    " <br>\n",
    " >  <font color=blue> no muestre explicítamente todas las\n",
    "  factorizaciones y las soluciones, basta con la tabla de la normas $\\|\\widehat x-u\\|_{\\infty}$</font> "
   ]
  },
  {
   "cell_type": "code",
   "execution_count": 16,
   "metadata": {},
   "outputs": [
    {
     "data": {
      "text/plain": [
       "Tuple{Int64,Int64}"
      ]
     },
     "execution_count": 16,
     "metadata": {},
     "output_type": "execute_result"
    }
   ],
   "source": [
    "n=3\n",
    "u=ones(1:n)"
   ]
  },
  {
   "cell_type": "markdown",
   "metadata": {},
   "source": []
  },
  {
   "cell_type": "markdown",
   "metadata": {},
   "source": [
    "> <br>\n",
    "    <font color=blue> En teoría, $\\widehat x=u$. Por lo que $\\|\\widehat x-u\\|_{\\infty}=0$. <br>\n",
    "> <br>\n",
    "    <font color=blue> ¿esto se refleja en los calculos que hizo? ¿qué ocurre?<br>"
   ]
  },
  {
   "cell_type": "markdown",
   "metadata": {},
   "source": []
  },
  {
   "cell_type": "markdown",
   "metadata": {},
   "source": [
    "### Ejercicio 6\n",
    " **(2 puntos)**\n",
    "<br>\n",
    "<font color=blue>\n",
    " Una manera de calcular los valores de la función $u$ en el problema de valores en la frontera\n",
    "    <br>\n",
    "    $$\\begin{array}{rl}\n",
    "    -u''(x)+u(x) =1, & 0<x<1 \\\\ u(0)= 1, & \\\\ u(1) =0,  \n",
    "    \\end{array}$$\n",
    "es mediante el método de diferencias finitas.\n",
    "<br>\n",
    "Sea $h=\\dfrac{1}{m+1}$y sean $x_j=jh$ para $j=1,\\dots,m$. \n",
    "<br>\n",
    "Los valores aproximados de $u(x_j)$ son las componentes $\\widehat z_j$ de la solución $\\widehat z$ del \n",
    "sistema de ecuaciones lineales \n",
    "<br>\n",
    "<br>\n",
    "$$Tz=b,$$ donde\n",
    "<br>\n",
    "  $$ T =\n",
    "  \\begin{bmatrix}\n",
    "  2+h^2 & -1 & & 0 \\\\ -1 & \\ddots & \\ddots & \\\\ & \\ddots & \\ddots & -1 \\\\ 0 & & -1 & 2+h^2\n",
    "  \\end{bmatrix}$$\n",
    "es matriz tridiagonal simétrica $m\\times m$ y \n",
    "$$b=\n",
    "\\begin{bmatrix}\n",
    " h^2 +1 \\\\ h^2 \\\\ \\vdots \\\\ h^2\n",
    "\\end{bmatrix}_{m\\times 1}\n",
    "$$  \n",
    "</font>"
   ]
  },
  {
   "cell_type": "markdown",
   "metadata": {},
   "source": [
    "- <font color=blue> \n",
    "  Busque una rutina para hallar la Factorización LU de una matriz tridiagonal simétrica \n",
    "  <br>\n",
    "  y usela para resolver $Tz=b$ cuando $h=0.1,0.05,0.025,0.0125$ </font>"
   ]
  },
  {
   "cell_type": "markdown",
   "metadata": {},
   "source": [
    ">  <font color=blue> La rutina solo debe realizar operaciones con los elementos de la diagonal \n",
    "    principal, la subdiagonal y la superdiagonal tanto en la Factorización como en las fases de \n",
    "    sustitución directa y hacia átras</font>"
   ]
  },
  {
   "cell_type": "code",
   "execution_count": null,
   "metadata": {},
   "outputs": [],
   "source": []
  },
  {
   "cell_type": "code",
   "execution_count": null,
   "metadata": {},
   "outputs": [],
   "source": []
  },
  {
   "cell_type": "markdown",
   "metadata": {},
   "source": [
    "- <font color=blue>  La función $$u(x)=1-\\dfrac{\\sinh(x)}{\\sinh(1)}$$ es la solución del problema de valores en frontera. \n",
    "  <br>\n",
    "  En una misma figura gráfique los valores $u(x_j)$ contra $x_j$ y las componentes \n",
    "  $\\widehat z_j$ contra $x_j$ para $h=0.1$ \n",
    "  </font>"
   ]
  },
  {
   "cell_type": "code",
   "execution_count": null,
   "metadata": {},
   "outputs": [],
   "source": []
  },
  {
   "cell_type": "markdown",
   "metadata": {},
   "source": [
    "- <font color=blue> \n",
    " Muestre una tabla con los errores\n",
    "  $$\\left\\|\n",
    "  \\begin{bmatrix}\n",
    "  u(x_1) \\\\ \\vdots \\\\ u(x_m)\n",
    " \\end{bmatrix} -\n",
    " \\begin{bmatrix}\n",
    "  z_1 \\\\ \\vdots \\\\ z_m\n",
    " \\end{bmatrix}\n",
    "  \\right\\|_{\\infty}$$\n",
    "  para $h=0.1,0.05,0.025,0.0125$ </font>"
   ]
  },
  {
   "cell_type": "code",
   "execution_count": null,
   "metadata": {},
   "outputs": [],
   "source": []
  }
 ],
 "metadata": {
  "kernelspec": {
   "display_name": "Julia 0.6.2",
   "language": "julia",
   "name": "julia-0.6"
  },
  "language_info": {
   "file_extension": ".jl",
   "mimetype": "application/julia",
   "name": "julia",
   "version": "0.6.2"
  }
 },
 "nbformat": 4,
 "nbformat_minor": 2
}
