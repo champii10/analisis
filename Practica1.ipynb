{
 "cells": [
  {
   "cell_type": "code",
   "execution_count": 45,
   "metadata": {},
   "outputs": [
    {
     "data": {
      "text/plain": [
       "11×4 Array{Any,2}:\n",
       "      \"Aproximación\"        \"n!\"          \"Error absoluto\"   \"Error relativo\"\n",
       "     0.922137              1.0           0.077863           0.077863         \n",
       "     1.919                 2.0           0.0809957          0.0404978        \n",
       "     5.83621               6.0           0.16379            0.0272984        \n",
       "    23.5062               24.0           0.493824           0.020576         \n",
       "   118.019               120.0           1.98083            0.016507         \n",
       "   710.078               720.0           9.92181            0.0137803        \n",
       "  4980.4                5040.0          59.604              0.0118262        \n",
       " 39902.4               40320.0         417.605              0.0103573        \n",
       "     3.59537f5        362880.0        3343.13               0.00921276       \n",
       "     3.5987f6              3.6288f6  30104.5                0.00829599       "
      ]
     },
     "execution_count": 45,
     "metadata": {},
     "output_type": "execute_result"
    }
   ],
   "source": [
    "m=convert(Array{Any,2},ones(11,5))\n",
    "n=1.00\n",
    "m[1,1]=\"Valor de n\"\n",
    "m[1,2]=\"Aproximación\"\n",
    "m[1,3]=\"n!\"\n",
    "m[1,4]=\"Error absoluto\"\n",
    "m[1,5]=\"Error relativo\"\n",
    "\n",
    "\n",
    "\n",
    "for i in 2:11\n",
    "    m[i,1]=n\n",
    "    m[i,2]=convert(Float32,(sqrt(2*π*n))*(n/exp(1))^n)\n",
    "    m[i,3]=convert(Float32,factorial(n))\n",
    "    m[i,4]=convert(Float32,abs(m[i,3]-m[i,2]))\n",
    "    m[i,5]=convert(Float32,(m[i,4]/m[i,3]))\n",
    "    \n",
    "    n=n+1\n",
    "end\n",
    "m  # Se sugiere también revisar m[1:11,2:5], en caso de que no se despliegue el arreglo completo\n",
    "#m[1:11,2:5]"
   ]
  },
  {
   "cell_type": "code",
   "execution_count": 38,
   "metadata": {},
   "outputs": [
    {
     "name": "stdout",
     "output_type": "stream",
     "text": [
      "n=1  n!=1    Aprox=0.9221370088957891    E.Abs=0.07786299110421091   E.relativo=0.07786299110421091 \n",
      "n=2  n!=2    Aprox=1.9190043514889832    E.Abs=0.08099564851101682   E.relativo=0.04049782425550841 \n",
      "n=3  n!=6    Aprox=5.836209591345864    E.Abs=0.16379040865413597   E.relativo=0.027298401442355995 \n",
      "n=4  n!=24    Aprox=23.506175132893294    E.Abs=0.4938248671067065   E.relativo=0.020576036129446102 \n",
      "n=5  n!=120    Aprox=118.0191679575901    E.Abs=1.9808320424099009   E.relativo=0.016506933686749173 \n",
      "n=6  n!=720    Aprox=710.078184642185    E.Abs=9.921815357815035   E.relativo=0.013780299108076438 \n",
      "n=7  n!=5040    Aprox=4980.395831612462    E.Abs=59.604168387538266   E.relativo=0.011826223886416323 \n",
      "n=8  n!=40320    Aprox=39902.39545265671    E.Abs=417.6045473432896   E.relativo=0.010357255638474444 \n",
      "n=9  n!=362880    Aprox=359536.87284194835    E.Abs=3343.1271580516477   E.relativo=0.009212762230080598 \n",
      "n=10  n!=3628800    Aprox=3.5986956187410373e6    E.Abs=30104.381258962676   E.relativo=0.008295960443938127 \n"
     ]
    }
   ],
   "source": [
    "for i in 1:10\n",
    "    aprox=(sqrt(2*π*i))*(i/exp(1))^i\n",
    "    convert(Float32,aprox)\n",
    "    fact=factorial(i)\n",
    "    convert(Float32,aprox)\n",
    "    e_abs=abs(aprox-fact)\n",
    "    convert(Float32,e_abs)\n",
    "    e_rel=(e_abs/fact)\n",
    "    convert(Float32,e_rel)\n",
    "    println(\"n=$i  n!=$fact    Aprox=$aprox    E.Abs=$e_abs   E.relativo=$e_rel \")\n",
    "    \n",
    "end\n",
    "\n",
    "#Observaciones: el error absoluto aumenta mientras que el relativo disminuye a cada iteración"
   ]
  },
  {
   "cell_type": "code",
   "execution_count": 37,
   "metadata": {},
   "outputs": [
    {
     "data": {
      "text/plain": [
       "11×4 Array{Any,2}:\n",
       "      \"Aproximación\"        \"n!\"          \"Error absoluto\"   \"Error relativo\"\n",
       "     0.922137              1.0           0.077863           0.077863         \n",
       "     1.919                 2.0           0.0809956          0.0404978        \n",
       "     5.83621               6.0           0.16379            0.0272984        \n",
       "    23.5062               24.0           0.493825           0.020576         \n",
       "   118.019               120.0           1.98083            0.0165069        \n",
       "   710.078               720.0           9.92182            0.0137803        \n",
       "  4980.4                5040.0          59.6042             0.0118262        \n",
       " 39902.4               40320.0         417.605              0.0103573        \n",
       "     3.59537e5        362880.0        3343.13               0.00921276       \n",
       "     3.5987e6              3.6288e6  30104.4                0.00829596       "
      ]
     },
     "execution_count": 37,
     "metadata": {},
     "output_type": "execute_result"
    }
   ],
   "source": [
    "m[1:11,2:5]"
   ]
  },
  {
   "cell_type": "code",
   "execution_count": null,
   "metadata": {},
   "outputs": [],
   "source": [
    "a=1"
   ]
  },
  {
   "cell_type": "code",
   "execution_count": 21,
   "metadata": {},
   "outputs": [
    {
     "name": "stdout",
     "output_type": "stream",
     "text": [
      "Último valor es Inf\n",
      "Penúltimo valor es 8.98846567431158e307\n",
      "Num de Iteraciones: 1025 \n"
     ]
    }
   ],
   "source": [
    "aux=true\n",
    "m=1.0\n",
    "n=1.0\n",
    "k=1.0\n",
    "i=0\n",
    "\n",
    "while m < n || aux\n",
    "aux=false\n",
    "k=m\n",
    "m=n\n",
    "n=2*n\n",
    "    i +=1\n",
    "end\n",
    "println(\"Último valor es $m\")\n",
    "println(\"Penúltimo valor es $k\")\n",
    "println(\"Num de Iteraciones: $i \")\n",
    "\n",
    "\n",
    "#= El ciclo no es infinito porque se alcanza el máximo exponente de el sistema doble,\n",
    "haciendo a ambos valores como inf y terminando el ciclo\n",
    "=#"
   ]
  },
  {
   "cell_type": "code",
   "execution_count": 8,
   "metadata": {},
   "outputs": [
    {
     "data": {
      "text/plain": [
       "Float64"
      ]
     },
     "execution_count": 8,
     "metadata": {},
     "output_type": "execute_result"
    }
   ],
   "source": [
    "a=1\n",
    "b=1\n",
    "aux=true\n",
    "n=1.0\n",
    "m=1.0\n",
    "pen=0\n",
    "it=0\n",
    "\n",
    "typeof(n)"
   ]
  },
  {
   "cell_type": "code",
   "execution_count": 16,
   "metadata": {},
   "outputs": [
    {
     "data": {
      "text/plain": [
       "2"
      ]
     },
     "execution_count": 16,
     "metadata": {},
     "output_type": "execute_result"
    }
   ],
   "source": [
    "l +=1"
   ]
  },
  {
   "cell_type": "code",
   "execution_count": 15,
   "metadata": {},
   "outputs": [
    {
     "data": {
      "text/plain": [
       "1"
      ]
     },
     "execution_count": 15,
     "metadata": {},
     "output_type": "execute_result"
    }
   ],
   "source": [
    "l=1"
   ]
  },
  {
   "cell_type": "code",
   "execution_count": null,
   "metadata": {},
   "outputs": [],
   "source": []
  }
 ],
 "metadata": {
  "kernelspec": {
   "display_name": "Julia 0.6.2",
   "language": "julia",
   "name": "julia-0.6"
  },
  "language_info": {
   "file_extension": ".jl",
   "mimetype": "application/julia",
   "name": "julia",
   "version": "0.6.2"
  }
 },
 "nbformat": 4,
 "nbformat_minor": 2
}
